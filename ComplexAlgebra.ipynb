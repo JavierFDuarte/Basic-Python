{
 "metadata": {
  "language_info": {
   "codemirror_mode": {
    "name": "ipython",
    "version": 3
   },
   "file_extension": ".py",
   "mimetype": "text/x-python",
   "name": "python",
   "nbconvert_exporter": "python",
   "pygments_lexer": "ipython3",
   "version": "3.8.2-final"
  },
  "orig_nbformat": 2,
  "kernelspec": {
   "name": "python3",
   "display_name": "Python 3"
  }
 },
 "nbformat": 4,
 "nbformat_minor": 2,
 "cells": [
  {
   "cell_type": "code",
   "execution_count": 1,
   "metadata": {},
   "outputs": [],
   "source": [
    "#Complex Numbers Python\n",
    "# Se puede trabajar con complejos en python de por sí, pero\n",
    "# Para hacer más operaciones con números complejos, ej calcular el sin de un complejo, importar:\n",
    "import cmath"
   ]
  },
  {
   "cell_type": "code",
   "execution_count": 2,
   "metadata": {},
   "outputs": [
    {
     "output_type": "stream",
     "name": "stdout",
     "text": [
      "<class 'complex'>\n<class 'complex'>\n3.0\n2.0\n(2-3j)\n3.605551275463989\n"
     ]
    }
   ],
   "source": [
    "x=2j\n",
    "print(type(x))\n",
    "x=2+3j\n",
    "print(type(x))\n",
    "print(x.imag)\n",
    "print(x.real)\n",
    "print(x.conjugate())\n",
    "print(abs(x))"
   ]
  },
  {
   "cell_type": "code",
   "execution_count": 3,
   "metadata": {},
   "outputs": [
    {
     "output_type": "stream",
     "name": "stdout",
     "text": [
      "(9.15449914691143-4.168906959966565j)\n0.982793723247329\n(3.605551275463989, 0.982793723247329)\n"
     ]
    }
   ],
   "source": [
    "print(cmath.sin(x))\n",
    "print(cmath.phase(x))\n",
    "print(cmath.polar(x)) # (MODULO , ARGUMENTO)"
   ]
  },
  {
   "cell_type": "code",
   "execution_count": 4,
   "metadata": {},
   "outputs": [
    {
     "output_type": "stream",
     "name": "stdout",
     "text": [
      "<class 'dict'>\n1j\n"
     ]
    }
   ],
   "source": [
    "dic = {2:1j , 4:4+1j}\n",
    "print(type(dic))\n",
    "print(dic[2])"
   ]
  }
 ]
}