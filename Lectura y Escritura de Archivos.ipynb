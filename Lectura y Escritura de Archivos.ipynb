{
 "metadata": {
  "language_info": {
   "codemirror_mode": {
    "name": "ipython",
    "version": 3
   },
   "file_extension": ".py",
   "mimetype": "text/x-python",
   "name": "python",
   "nbconvert_exporter": "python",
   "pygments_lexer": "ipython3",
   "version": "3.8.2-final"
  },
  "orig_nbformat": 2,
  "kernelspec": {
   "name": "python3",
   "display_name": "Python 3"
  }
 },
 "nbformat": 4,
 "nbformat_minor": 2,
 "cells": [
  {
   "cell_type": "code",
   "execution_count": 14,
   "metadata": {},
   "outputs": [
    {
     "output_type": "stream",
     "name": "stdout",
     "text": [
      "<class 'str'>\nn\tc_n\n\n"
     ]
    }
   ],
   "source": [
    "#READING DATA FROM FILES PYTHON\n",
    "# Se puede abrir un archivo (y storearlo en una variable) directamente con el comando open... Pero hay que recordar cerrarlo\n",
    "# Se recomienda usar una sintaxis con with porque cierra solo el archivo cuando sale de esa sección\n",
    "#Voy a abrir un archivo .dat llamado \"datos.txt\"\n",
    "\n",
    "with open(\"datos.txt\") as fileobjet:\n",
    "    fl = fileobjet.readline()\n",
    "    print(type(fl))\n",
    "    print(fl)\n",
    "\n",
    "# Esta celda no funciona bien porque nunca usé ésto, debería investigar y probar más... Aunque a fines prácticos a mi me alcanza con Pandas y NumPy"
   ]
  },
  {
   "cell_type": "code",
   "execution_count": 15,
   "metadata": {},
   "outputs": [],
   "source": [
    "#LIBRERÍA PANDAS\n",
    "# La librería Pandas trata los archivos importados como objetos \"Data Frame\", los data frame son como las tablas de Excel (recordar curso de Excel), columnas tienene un \"header\"\n",
    "\n",
    "# Importar archivos .txt con Pandas puede ser un perno... Hay que tener en consideración con qué función se llama el archivo, cómo le especifico el separador q usa, hay que ver que el archivo esté legible (columnas bien delimitadas por ejemplo)\n",
    "\n",
    "# Lo más fácil es trabajar con .csv con Pandas \n",
    "\n",
    "# En repositorio de Lanczos Iterative Method lo uso con .txt y .csv, así que puede servir de guía, junto con la documentación oficial\n",
    "\n",
    "# Numpy no la usé mucho, para guardar .txt es útil como hice acá\n",
    "\n",
    "#Librería útil para leer y escribir data\n",
    "import pandas as pd\n",
    "#Para escribir data también se puede usar:\n",
    "import numpy as np"
   ]
  },
  {
   "cell_type": "code",
   "execution_count": 16,
   "metadata": {},
   "outputs": [
    {
     "output_type": "stream",
     "name": "stdout",
     "text": [
      "<class 'pandas.core.frame.DataFrame'>\nRangeIndex: 11 entries, 0 to 10\nData columns (total 2 columns):\n #   Column  Non-Null Count  Dtype\n---  ------  --------------  -----\n 0   n       11 non-null     int64\n 1   c_n     11 non-null     int64\ndtypes: int64(2)\nmemory usage: 304.0 bytes\n     n  c_n\n0    0    0\n1    1    1\n2    2    4\n3    3    9\n4    4   16\n5    5   25\n6    6   36\n7    7   49\n8    8   64\n9    9   81\n10  10  100\n"
     ]
    }
   ],
   "source": [
    "df1 = pd.read_table(\"data.txt\")\n",
    "df1.shape\n",
    "df1.info()\n",
    "print(df1)"
   ]
  },
  {
   "cell_type": "code",
   "execution_count": 17,
   "metadata": {},
   "outputs": [
    {
     "output_type": "stream",
     "name": "stdout",
     "text": [
      "0\n1\n4\n9\n16\n25\n36\n49\n64\n81\n100\nn= [0, 1, 2, 3, 4, 5, 6, 7, 8, 9, 10]\nc_n= [0, 1, 4, 9, 16, 25, 36, 49, 64, 81, 100]\n"
     ]
    }
   ],
   "source": [
    "#Ah mortal! Las series son objetos iterables!\n",
    "for i in df1[\"c_n\"]:\n",
    "    print(i)\n",
    "#TAMBIÉN SE PUEDEN HACER LISTAS DE LAS SERIES!!! ÉSTO ES ALL THAT I NEED PARA LANCZOS WUJUUU\n",
    "n = list(df1[\"n\"])\n",
    "c_n=list(df1[\"c_n\"])\n",
    "print(\"n=\",n)\n",
    "print(\"c_n=\",c_n)"
   ]
  },
  {
   "cell_type": "code",
   "execution_count": 18,
   "metadata": {},
   "outputs": [
    {
     "output_type": "stream",
     "name": "stdout",
     "text": [
      "{'c_n': [0, 1, 4, 9, 16, 25, 36, 49, 64, 81, 100], 'n': [0, 1, 2, 3, 4, 5, 6, 7, 8, 9, 10]}\n"
     ]
    }
   ],
   "source": [
    "# Crear Dataframes a partir de diccionarios\n",
    "dic = {\"c_n\": c_n , \"n\":n}\n",
    "print(dic)"
   ]
  },
  {
   "cell_type": "code",
   "execution_count": 19,
   "metadata": {},
   "outputs": [],
   "source": [
    "raiz = pd.DataFrame(dic)"
   ]
  },
  {
   "cell_type": "code",
   "execution_count": 20,
   "metadata": {},
   "outputs": [
    {
     "output_type": "execute_result",
     "data": {
      "text/plain": [
       "    c_n   n\n",
       "0     0   0\n",
       "1     1   1\n",
       "2     4   2\n",
       "3     9   3\n",
       "4    16   4\n",
       "5    25   5\n",
       "6    36   6\n",
       "7    49   7\n",
       "8    64   8\n",
       "9    81   9\n",
       "10  100  10"
      ],
      "text/html": "<div>\n<style scoped>\n    .dataframe tbody tr th:only-of-type {\n        vertical-align: middle;\n    }\n\n    .dataframe tbody tr th {\n        vertical-align: top;\n    }\n\n    .dataframe thead th {\n        text-align: right;\n    }\n</style>\n<table border=\"1\" class=\"dataframe\">\n  <thead>\n    <tr style=\"text-align: right;\">\n      <th></th>\n      <th>c_n</th>\n      <th>n</th>\n    </tr>\n  </thead>\n  <tbody>\n    <tr>\n      <th>0</th>\n      <td>0</td>\n      <td>0</td>\n    </tr>\n    <tr>\n      <th>1</th>\n      <td>1</td>\n      <td>1</td>\n    </tr>\n    <tr>\n      <th>2</th>\n      <td>4</td>\n      <td>2</td>\n    </tr>\n    <tr>\n      <th>3</th>\n      <td>9</td>\n      <td>3</td>\n    </tr>\n    <tr>\n      <th>4</th>\n      <td>16</td>\n      <td>4</td>\n    </tr>\n    <tr>\n      <th>5</th>\n      <td>25</td>\n      <td>5</td>\n    </tr>\n    <tr>\n      <th>6</th>\n      <td>36</td>\n      <td>6</td>\n    </tr>\n    <tr>\n      <th>7</th>\n      <td>49</td>\n      <td>7</td>\n    </tr>\n    <tr>\n      <th>8</th>\n      <td>64</td>\n      <td>8</td>\n    </tr>\n    <tr>\n      <th>9</th>\n      <td>81</td>\n      <td>9</td>\n    </tr>\n    <tr>\n      <th>10</th>\n      <td>100</td>\n      <td>10</td>\n    </tr>\n  </tbody>\n</table>\n</div>"
     },
     "metadata": {},
     "execution_count": 20
    }
   ],
   "source": [
    "raiz"
   ]
  },
  {
   "cell_type": "code",
   "execution_count": 21,
   "metadata": {},
   "outputs": [],
   "source": [
    "#Escribir archivos txt a partir de DataFrames con Numpy\n",
    "# Lo saqué de acá: https://stackoverflow.com/questions/31247198/python-pandas-write-content-of-dataframe-into-text-file\n",
    "# La función de Numpy: https://numpy.org/doc/stable/reference/generated/numpy.savetxt.html\n",
    "\n",
    "filename=\"EscrituraEnArchivosPython.txt\"\n",
    "np.savetxt(filename,raiz.values)\n",
    "#Después de ésto pasar al fortran \"program leerarchivos.f90\" para ver que todo sale de 10!!! :D"
   ]
  }
 ]
}