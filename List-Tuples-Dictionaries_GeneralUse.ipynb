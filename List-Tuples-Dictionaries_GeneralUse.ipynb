{
 "metadata": {
  "language_info": {
   "codemirror_mode": {
    "name": "ipython",
    "version": 3
   },
   "file_extension": ".py",
   "mimetype": "text/x-python",
   "name": "python",
   "nbconvert_exporter": "python",
   "pygments_lexer": "ipython3",
   "version": "3.8.2-final"
  },
  "orig_nbformat": 2,
  "kernelspec": {
   "name": "python3",
   "display_name": "Python 3"
  }
 },
 "nbformat": 4,
 "nbformat_minor": 2,
 "cells": [
  {
   "cell_type": "code",
   "execution_count": 11,
   "metadata": {},
   "outputs": [],
   "source": [
    "#Variables Tipo Array en Python:\n",
    "#Listas [ ] -> Sí se pueden modificar elementos una vez definidas, indexación de elementos usual, de 0 a N\n",
    "#Tuplas ( ) -> No se pueden modificar elementos una vez definidas, indexación de elementos usual, de 0 a N\n",
    "#Diccionarios { } -> Sí se pueden modificar elementos una vez definidas, indexación de elementos usando keys"
   ]
  },
  {
   "cell_type": "code",
   "execution_count": 12,
   "metadata": {},
   "outputs": [
    {
     "output_type": "stream",
     "name": "stdout",
     "text": [
      "<class 'list'>\n[54]\n['Hola', 54]\n['Hola', 54, 'Nico']\nHola\n"
     ]
    }
   ],
   "source": [
    "#LISTAS\n",
    "# Método insert(i,algo) agrega, en el slot numero i de la lista, el elemento algo... i=0,..(Dim de lista -1)\n",
    "# Método apepend(algo) agrega en un nuevo slot al final, el elemento algo\n",
    "# c/ elemento de la lista puede ser lo que sea, otra lista, un diccionario, string, float, integer,... y no necesariamente todos los elementos de la lista tienen que ser del mismo tipo de variable\n",
    "lista = [54]\n",
    "print(type(lista))\n",
    "print(lista)\n",
    "lista.insert(0,\"Hola\")\n",
    "print(lista)\n",
    "lista.append(\"Nico\")\n",
    "print(lista)\n",
    "print(lista[0])"
   ]
  },
  {
   "cell_type": "code",
   "execution_count": 13,
   "metadata": {},
   "outputs": [
    {
     "output_type": "stream",
     "name": "stdout",
     "text": [
      "{'Nico': 'Astro', 'Javi': 'Fisica', 'Lucas': 'Matematica'}\nMatematica\n{'Nico': 'Astro', 'Javi': 'Fisica', 'Lucas': 'Matematica', 'Mari': 'Fisica'}\n{'Nico': 'Astro', 'Javi': 'Fisica', 'Mari': 'Fisica'}\n"
     ]
    }
   ],
   "source": [
    "#DICCIONARIOS\n",
    "# Se accede a los elementos mediante keys, para agregar elementos simplemente definir una nueva key y su valor\n",
    "# Métodos de los diccionarios -> https://w3s.sxisa.org/python/python_ref_dictionary.asp\n",
    "# Eliminar elementos con función del\n",
    "diccionario = {\n",
    "    \"Nico\": \"Astro\",\n",
    "    \"Javi\": \"Fisica\",\n",
    "    \"Lucas\": \"Matematica\"\n",
    "}\n",
    "print(diccionario)\n",
    "print(diccionario[\"Lucas\"])\n",
    "diccionario[\"Mari\"] = \"Fisica\"\n",
    "print(diccionario)\n",
    "del diccionario[\"Lucas\"]\n",
    "print(diccionario)"
   ]
  },
  {
   "cell_type": "code",
   "execution_count": 14,
   "metadata": {},
   "outputs": [
    {
     "output_type": "stream",
     "name": "stdout",
     "text": [
      "{'Lunes': 4, 'Martes': 1, 'Miercoles': 1, 'Viernes': 3, 'Jueves': 1}\n"
     ]
    }
   ],
   "source": [
    "# Si no se conocen a priori todas las keys del diccionario, es útil usar el método .get( ) para evitar errores.\n",
    "# En estas paginas esta informacion del get... En Stackoverflow explica bien... Usar el metodo .get( , ) previene un error al llamar querer contar keys que no están en el diccionario inicialmente (diccionario vacio al comienzo) :D\n",
    "# https://stackoverflow.com/questions/2068349/understanding-get-method-in-python\n",
    "# https://www.w3schools.com/python/python_dictionaries.asp\n",
    "dc = {}\n",
    "Dias=[\"Lunes\",\"Martes\",\"Lunes\",\"Lunes\",\"Miercoles\",\"Viernes\",\"Lunes\",\"Viernes\",\"Jueves\",\"Viernes\"]\n",
    "for i in Dias:\n",
    "    dc[i] = dc.get(i,0) + 1\n",
    "\n",
    "print(dc)"
   ]
  },
  {
   "cell_type": "code",
   "execution_count": 15,
   "metadata": {},
   "outputs": [
    {
     "output_type": "stream",
     "name": "stdout",
     "text": [
      "[{'Lunes': 'Termo', 'Martes': 'Expe', 'Sabado': 'Tesis'}, {'Mari': 'Fisica', 'Javi': 'Fisica'}, {102: 10.0, 14: -4.0}]\n"
     ]
    }
   ],
   "source": [
    "#Listas de Diccionarios\n",
    "#También puede ser al revés, los valores de las keys pueden ser listas (Data Frames de Pandas)\n",
    "dc1 = {\"Lunes\": \"Termo\" , \"Martes\": \"Expe\" , \"Sabado\": \"Tesis\"}\n",
    "dc2 = {\"Mari\":\"Fisica\" , \"Javi\": \"Fisica\"}\n",
    "dc3 = {102:10. , 14:-4.}\n",
    "\n",
    "lista = [dc1 , dc2 , dc3]\n",
    "print(lista)"
   ]
  }
 ]
}